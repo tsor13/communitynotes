{
 "cells": [
  {
   "cell_type": "code",
   "execution_count": 1,
   "metadata": {},
   "outputs": [],
   "source": [
    "import pandas as pd\n",
    "import matplotlib.pyplot as plt\n",
    "import numpy as np\n",
    "import seaborn as sns"
   ]
  },
  {
   "cell_type": "code",
   "execution_count": 2,
   "metadata": {},
   "outputs": [
    {
     "name": "stderr",
     "output_type": "stream",
     "text": [
      "/var/folders/1p/h191j1g97h7fp_g5rwt17vrr0000gp/T/ipykernel_89226/2933868264.py:2: DtypeWarning: Columns (4) have mixed types. Specify dtype option on import or set low_memory=False.\n",
      "  tweets = pd.read_csv(file_path, sep='\\t')\n"
     ]
    }
   ],
   "source": [
    "file_path = 'tweets.tsv'\n",
    "tweets = pd.read_csv(file_path, sep='\\t')"
   ]
  },
  {
   "cell_type": "code",
   "execution_count": 3,
   "metadata": {},
   "outputs": [
    {
     "name": "stderr",
     "output_type": "stream",
     "text": [
      "/var/folders/1p/h191j1g97h7fp_g5rwt17vrr0000gp/T/ipykernel_89226/3918179298.py:2: DtypeWarning: Columns (7,35) have mixed types. Specify dtype option on import or set low_memory=False.\n",
      "  notes = pd.read_csv(notes_path, sep='\\t')\n"
     ]
    }
   ],
   "source": [
    "notes_path = '../data/scored_notes.tsv'\n",
    "notes = pd.read_csv(notes_path, sep='\\t')"
   ]
  },
  {
   "cell_type": "code",
   "execution_count": 4,
   "metadata": {},
   "outputs": [],
   "source": [
    "notes['is_helpful'] = notes['coreNoteIntercept'] >= 0.4"
   ]
  },
  {
   "cell_type": "code",
   "execution_count": 6,
   "metadata": {},
   "outputs": [
    {
     "name": "stderr",
     "output_type": "stream",
     "text": [
      "/var/folders/1p/h191j1g97h7fp_g5rwt17vrr0000gp/T/ipykernel_89226/121191899.py:1: DtypeWarning: Columns (5,6,7) have mixed types. Specify dtype option on import or set low_memory=False.\n",
      "  notes_0 = pd.read_csv(\"../data/notes-00000.tsv\", sep='\\t')\n"
     ]
    }
   ],
   "source": [
    "notes_0 = pd.read_csv(\"../data/notes-00000.tsv\", sep='\\t')"
   ]
  },
  {
   "cell_type": "code",
   "execution_count": 7,
   "metadata": {},
   "outputs": [],
   "source": [
    "notes_modified = pd.merge(notes, notes_0, on=['noteId'], how='left')"
   ]
  },
  {
   "cell_type": "code",
   "execution_count": 8,
   "metadata": {},
   "outputs": [],
   "source": [
    "helpful_notes_count = notes_modified.groupby('tweetId')['is_helpful'].sum().reset_index()\n",
    "helpful_notes_count.rename(columns={'is_helpful': 'helpful_note_count'}, inplace=True)"
   ]
  },
  {
   "cell_type": "code",
   "execution_count": 9,
   "metadata": {},
   "outputs": [
    {
     "data": {
      "text/html": [
       "<div>\n",
       "<style scoped>\n",
       "    .dataframe tbody tr th:only-of-type {\n",
       "        vertical-align: middle;\n",
       "    }\n",
       "\n",
       "    .dataframe tbody tr th {\n",
       "        vertical-align: top;\n",
       "    }\n",
       "\n",
       "    .dataframe thead th {\n",
       "        text-align: right;\n",
       "    }\n",
       "</style>\n",
       "<table border=\"1\" class=\"dataframe\">\n",
       "  <thead>\n",
       "    <tr style=\"text-align: right;\">\n",
       "      <th></th>\n",
       "      <th>tweetId</th>\n",
       "      <th>errors</th>\n",
       "      <th>data</th>\n",
       "      <th>includes</th>\n",
       "      <th>error</th>\n",
       "    </tr>\n",
       "  </thead>\n",
       "  <tbody>\n",
       "    <tr>\n",
       "      <th>0</th>\n",
       "      <td>1653785862847561731</td>\n",
       "      <td>[{'resource_id': '1653785862847561731', 'param...</td>\n",
       "      <td>NaN</td>\n",
       "      <td>NaN</td>\n",
       "      <td>NaN</td>\n",
       "    </tr>\n",
       "    <tr>\n",
       "      <th>1</th>\n",
       "      <td>1653785803179409408</td>\n",
       "      <td>[{'resource_id': '1653785803179409408', 'param...</td>\n",
       "      <td>NaN</td>\n",
       "      <td>NaN</td>\n",
       "      <td>NaN</td>\n",
       "    </tr>\n",
       "    <tr>\n",
       "      <th>2</th>\n",
       "      <td>1653785675165237249</td>\n",
       "      <td>NaN</td>\n",
       "      <td>{'id': '1653785675165237249', 'context_annotat...</td>\n",
       "      <td>{'media': [{'height': 675, 'type': 'photo', 'w...</td>\n",
       "      <td>NaN</td>\n",
       "    </tr>\n",
       "    <tr>\n",
       "      <th>3</th>\n",
       "      <td>1653795300077875200</td>\n",
       "      <td>NaN</td>\n",
       "      <td>{'possibly_sensitive': False, 'entities': {'an...</td>\n",
       "      <td>{'users': [{'url': 'https://t.co/uoSJIaYIBz', ...</td>\n",
       "      <td>NaN</td>\n",
       "    </tr>\n",
       "    <tr>\n",
       "      <th>4</th>\n",
       "      <td>1653796562684739590</td>\n",
       "      <td>NaN</td>\n",
       "      <td>{'created_at': '2023-05-03T16:20:01.000Z', 'ed...</td>\n",
       "      <td>{'users': [{'description': 'Ukraine combat foo...</td>\n",
       "      <td>NaN</td>\n",
       "    </tr>\n",
       "    <tr>\n",
       "      <th>...</th>\n",
       "      <td>...</td>\n",
       "      <td>...</td>\n",
       "      <td>...</td>\n",
       "      <td>...</td>\n",
       "      <td>...</td>\n",
       "    </tr>\n",
       "    <tr>\n",
       "      <th>449841</th>\n",
       "      <td>1696407681022435515</td>\n",
       "      <td>NaN</td>\n",
       "      <td>{'edit_history_tweet_ids': ['16964076810224355...</td>\n",
       "      <td>{'users': [{'username': 'GrablyR', 'entities':...</td>\n",
       "      <td>NaN</td>\n",
       "    </tr>\n",
       "    <tr>\n",
       "      <th>449842</th>\n",
       "      <td>1751732816612655441</td>\n",
       "      <td>NaN</td>\n",
       "      <td>{'created_at': '2024-01-28T22:23:43.000Z', 'en...</td>\n",
       "      <td>{'media': [{'width': 1280, 'height': 720, 'med...</td>\n",
       "      <td>NaN</td>\n",
       "    </tr>\n",
       "    <tr>\n",
       "      <th>449843</th>\n",
       "      <td>1745113463276675319</td>\n",
       "      <td>NaN</td>\n",
       "      <td>{'edit_history_tweet_ids': ['17451134632766753...</td>\n",
       "      <td>{'media': [{'media_key': '7_174511156020763033...</td>\n",
       "      <td>NaN</td>\n",
       "    </tr>\n",
       "    <tr>\n",
       "      <th>449844</th>\n",
       "      <td>1712301331766034680</td>\n",
       "      <td>NaN</td>\n",
       "      <td>{'entities': {'annotations': [{'start': 35, 'e...</td>\n",
       "      <td>{'media': [{'duration_ms': 18006, 'media_key':...</td>\n",
       "      <td>NaN</td>\n",
       "    </tr>\n",
       "    <tr>\n",
       "      <th>449845</th>\n",
       "      <td>1740598518346334705</td>\n",
       "      <td>[{'value': '1740598518346334705', 'detail': 'C...</td>\n",
       "      <td>{'attachments': {'media_keys': ['7_17005423961...</td>\n",
       "      <td>{'media': [{'width': 504, 'preview_image_url':...</td>\n",
       "      <td>NaN</td>\n",
       "    </tr>\n",
       "  </tbody>\n",
       "</table>\n",
       "<p>449846 rows × 5 columns</p>\n",
       "</div>"
      ],
      "text/plain": [
       "                    tweetId  \\\n",
       "0       1653785862847561731   \n",
       "1       1653785803179409408   \n",
       "2       1653785675165237249   \n",
       "3       1653795300077875200   \n",
       "4       1653796562684739590   \n",
       "...                     ...   \n",
       "449841  1696407681022435515   \n",
       "449842  1751732816612655441   \n",
       "449843  1745113463276675319   \n",
       "449844  1712301331766034680   \n",
       "449845  1740598518346334705   \n",
       "\n",
       "                                                   errors  \\\n",
       "0       [{'resource_id': '1653785862847561731', 'param...   \n",
       "1       [{'resource_id': '1653785803179409408', 'param...   \n",
       "2                                                     NaN   \n",
       "3                                                     NaN   \n",
       "4                                                     NaN   \n",
       "...                                                   ...   \n",
       "449841                                                NaN   \n",
       "449842                                                NaN   \n",
       "449843                                                NaN   \n",
       "449844                                                NaN   \n",
       "449845  [{'value': '1740598518346334705', 'detail': 'C...   \n",
       "\n",
       "                                                     data  \\\n",
       "0                                                     NaN   \n",
       "1                                                     NaN   \n",
       "2       {'id': '1653785675165237249', 'context_annotat...   \n",
       "3       {'possibly_sensitive': False, 'entities': {'an...   \n",
       "4       {'created_at': '2023-05-03T16:20:01.000Z', 'ed...   \n",
       "...                                                   ...   \n",
       "449841  {'edit_history_tweet_ids': ['16964076810224355...   \n",
       "449842  {'created_at': '2024-01-28T22:23:43.000Z', 'en...   \n",
       "449843  {'edit_history_tweet_ids': ['17451134632766753...   \n",
       "449844  {'entities': {'annotations': [{'start': 35, 'e...   \n",
       "449845  {'attachments': {'media_keys': ['7_17005423961...   \n",
       "\n",
       "                                                 includes error  \n",
       "0                                                     NaN   NaN  \n",
       "1                                                     NaN   NaN  \n",
       "2       {'media': [{'height': 675, 'type': 'photo', 'w...   NaN  \n",
       "3       {'users': [{'url': 'https://t.co/uoSJIaYIBz', ...   NaN  \n",
       "4       {'users': [{'description': 'Ukraine combat foo...   NaN  \n",
       "...                                                   ...   ...  \n",
       "449841  {'users': [{'username': 'GrablyR', 'entities':...   NaN  \n",
       "449842  {'media': [{'width': 1280, 'height': 720, 'med...   NaN  \n",
       "449843  {'media': [{'media_key': '7_174511156020763033...   NaN  \n",
       "449844  {'media': [{'duration_ms': 18006, 'media_key':...   NaN  \n",
       "449845  {'media': [{'width': 504, 'preview_image_url':...   NaN  \n",
       "\n",
       "[449846 rows x 5 columns]"
      ]
     },
     "execution_count": 9,
     "metadata": {},
     "output_type": "execute_result"
    }
   ],
   "source": [
    "tweets.rename(columns={'Unnamed: 0': 'tweetId'}, inplace=True)\n",
    "tweets"
   ]
  },
  {
   "cell_type": "code",
   "execution_count": 10,
   "metadata": {},
   "outputs": [
    {
     "name": "stderr",
     "output_type": "stream",
     "text": [
      "/var/folders/1p/h191j1g97h7fp_g5rwt17vrr0000gp/T/ipykernel_89226/309962334.py:2: FutureWarning: A value is trying to be set on a copy of a DataFrame or Series through chained assignment using an inplace method.\n",
      "The behavior will change in pandas 3.0. This inplace method will never work because the intermediate object on which we are setting values always behaves as a copy.\n",
      "\n",
      "For example, when doing 'df[col].method(value, inplace=True)', try using 'df.method({col: value}, inplace=True)' or df[col] = df[col].method(value) instead, to perform the operation inplace on the original object.\n",
      "\n",
      "\n",
      "  merged_df['helpful_note_count'].fillna(0, inplace=True)\n"
     ]
    }
   ],
   "source": [
    "merged_df = pd.merge(tweets, helpful_notes_count, on='tweetId', how='left')\n",
    "merged_df['helpful_note_count'].fillna(0, inplace=True)"
   ]
  },
  {
   "cell_type": "code",
   "execution_count": 11,
   "metadata": {},
   "outputs": [],
   "source": [
    "merged_df['formatted_output'] = 'Tweet: ' + merged_df['data'] + '\\tHelpful Note: ' + merged_df['helpful_note_count'].astype(int).astype(str)"
   ]
  },
  {
   "cell_type": "code",
   "execution_count": 12,
   "metadata": {},
   "outputs": [
    {
     "data": {
      "text/plain": [
       "0                                                       NaN\n",
       "1                                                       NaN\n",
       "2         Tweet: {'id': '1653785675165237249', 'context_...\n",
       "3         Tweet: {'possibly_sensitive': False, 'entities...\n",
       "4         Tweet: {'created_at': '2023-05-03T16:20:01.000...\n",
       "                                ...                        \n",
       "449841    Tweet: {'edit_history_tweet_ids': ['1696407681...\n",
       "449842    Tweet: {'created_at': '2024-01-28T22:23:43.000...\n",
       "449843    Tweet: {'edit_history_tweet_ids': ['1745113463...\n",
       "449844    Tweet: {'entities': {'annotations': [{'start':...\n",
       "449845    Tweet: {'attachments': {'media_keys': ['7_1700...\n",
       "Name: formatted_output, Length: 449846, dtype: object"
      ]
     },
     "execution_count": 12,
     "metadata": {},
     "output_type": "execute_result"
    }
   ],
   "source": [
    "merged_df[\"formatted_output\"]"
   ]
  },
  {
   "cell_type": "code",
   "execution_count": 17,
   "metadata": {},
   "outputs": [],
   "source": [
    "merged_df['tweetId'] = merged_df['tweetId'].astype(str)\n",
    "merged_df['helpful_note_count'] = merged_df['helpful_note_count'].astype(str)\n",
    "\n",
    "merged_df['formatted_output_2'] = 'Tweet ID: ' + merged_df['tweetId'] + '\\tHelpful Note: ' + merged_df['helpful_note_count']\n"
   ]
  },
  {
   "cell_type": "code",
   "execution_count": 23,
   "metadata": {},
   "outputs": [
    {
     "name": "stdout",
     "output_type": "stream",
     "text": [
      "0    Tweet ID: 1653785862847561731\\tHelpful Note: 0.0\n",
      "1    Tweet ID: 1653785803179409408\\tHelpful Note: 0.0\n",
      "2    Tweet ID: 1653785675165237249\\tHelpful Note: 0.0\n",
      "3    Tweet ID: 1653795300077875200\\tHelpful Note: 0.0\n",
      "4    Tweet ID: 1653796562684739590\\tHelpful Note: 0.0\n",
      "Name: formatted_output_2, dtype: object\n"
     ]
    }
   ],
   "source": [
    "print(merged_df['formatted_output_2'].head())\n"
   ]
  },
  {
   "cell_type": "code",
   "execution_count": 24,
   "metadata": {},
   "outputs": [],
   "source": [
    "import csv\n",
    "merged_df.to_csv('output.tsv', columns=['formatted_output_2'], sep='\\t', index=False, header=False, quoting=csv.QUOTE_NONE, escapechar='\\\\')\n"
   ]
  },
  {
   "cell_type": "code",
   "execution_count": 31,
   "metadata": {},
   "outputs": [],
   "source": [
    "merged_df['is_helpful'] = merged_df['helpful_note_count'].astype(float).astype(int) > 0\n",
    "output_data = merged_df[['tweetId', 'data', 'is_helpful']]"
   ]
  },
  {
   "cell_type": "code",
   "execution_count": 32,
   "metadata": {},
   "outputs": [],
   "source": [
    "output_data.to_csv('tweet_data_helpfulness.tsv', sep='\\t', index=False, header=True, quoting=csv.QUOTE_NONE, escapechar='\\\\')"
   ]
  }
 ],
 "metadata": {
  "kernelspec": {
   "display_name": "research",
   "language": "python",
   "name": "python3"
  },
  "language_info": {
   "codemirror_mode": {
    "name": "ipython",
    "version": 3
   },
   "file_extension": ".py",
   "mimetype": "text/x-python",
   "name": "python",
   "nbconvert_exporter": "python",
   "pygments_lexer": "ipython3",
   "version": "3.10.9"
  }
 },
 "nbformat": 4,
 "nbformat_minor": 2
}
