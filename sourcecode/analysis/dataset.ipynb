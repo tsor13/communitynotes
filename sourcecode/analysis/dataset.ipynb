{
 "cells": [
  {
   "cell_type": "code",
   "execution_count": 1,
   "metadata": {},
   "outputs": [],
   "source": [
    "import pandas as pd\n",
    "\n",
    "# filepath = \"\"\n",
    "# df = pd.read_csv(filepath)\n"
   ]
  },
  {
   "cell_type": "code",
   "execution_count": 2,
   "metadata": {},
   "outputs": [],
   "source": [
    "# toy data for now\n",
    "data = {\n",
    "    'TweetID': [101, 102, 103, 104],\n",
    "    'Summary': ['Summary 1', 'Summary 2', 'Summary 3', 'Summary 4'],\n",
    "    'Rating': ['HELPFUL', 'NOT_HELPFUL', 'SOMEWHAT', 'UNKNOWN']\n",
    "}\n",
    "\n",
    "df = pd.DataFrame(data)"
   ]
  },
  {
   "cell_type": "code",
   "execution_count": 6,
   "metadata": {},
   "outputs": [],
   "source": [
    "valid_ratings = ['HELPFUL', 'NOT_HELPFUL', 'SOMEWHAT']\n",
    "\n",
    "df['Rating'] = df['Rating'].apply(lambda x: x if x in valid_ratings else \"\")"
   ]
  },
  {
   "cell_type": "code",
   "execution_count": 7,
   "metadata": {},
   "outputs": [],
   "source": [
    "df.to_csv('dataset_with_replaced_helpfulness.csv', index=False)"
   ]
  },
  {
   "cell_type": "code",
   "execution_count": 8,
   "metadata": {},
   "outputs": [
    {
     "name": "stdout",
     "output_type": "stream",
     "text": [
      "   TweetID    Summary       Rating\n",
      "0      101  Summary 1      HELPFUL\n",
      "1      102  Summary 2  NOT_HELPFUL\n",
      "2      103  Summary 3     SOMEWHAT\n",
      "3      104  Summary 4             \n"
     ]
    }
   ],
   "source": [
    "print(df.head())"
   ]
  },
  {
   "cell_type": "markdown",
   "metadata": {},
   "source": [
    "# random stuff\n"
   ]
  },
  {
   "cell_type": "code",
   "execution_count": 12,
   "metadata": {},
   "outputs": [
    {
     "name": "stdout",
     "output_type": "stream",
     "text": [
      "   rater_id  helpfulness_score  rater_rating\n",
      "0         1               -0.5           0.5\n",
      "1         1                0.8           1.0\n",
      "2         2               -0.1           0.5\n",
      "3         2                0.6           1.0\n",
      "4         3               -0.9           0.0\n",
      "5         3                0.2           0.5\n",
      "User 1 average accuracy: 0.825\n",
      "User 2 average accuracy: 0.875\n",
      "User 3 average accuracy: 0.925\n"
     ]
    }
   ],
   "source": [
    "def calculate_rater_accuracy(rater_rating, helpfulness_score):\n",
    "    adjusted_helpfulness_score = (helpfulness_score + 1) / 2\n",
    "    difference = abs(rater_rating - adjusted_helpfulness_score)\n",
    "\n",
    "    accuracy = max(0, 1 - difference)\n",
    "\n",
    "    return accuracy\n",
    "\n",
    "\n",
    "import pandas as pd\n",
    "\n",
    "data = {\n",
    "    'rater_id': [1, 1, 2, 2, 3, 3],\n",
    "    'helpfulness_score': [-0.5, 0.8, -0.1, 0.6, -0.9, 0.2],\n",
    "    'rater_rating': [0.5, 1.0, 0.5, 1.0, 0.0, 0.5]\n",
    "}\n",
    "\n",
    "toy_df = pd.DataFrame(data)\n",
    "\n",
    "print(toy_df)\n",
    "\n",
    "unique_raters = toy_df['rater_id'].unique()\n",
    "train_data = toy_df.copy()\n",
    "\n",
    "\n",
    "user_accuracies = {}\n",
    "\n",
    "for rater_id in unique_raters:\n",
    "    total_accuracy = 0\n",
    "    count = 0\n",
    "\n",
    "    ratings_df = train_data[train_data['rater_id'] == rater_id]\n",
    "\n",
    "    for index, rating in ratings_df.iterrows():\n",
    "        helpfulness_score = rating['helpfulness_score']\n",
    "        rater_rating = rating['rater_rating']\n",
    "\n",
    "        accuracy = calculate_rater_accuracy(rater_rating, helpfulness_score)\n",
    "\n",
    "        total_accuracy += accuracy\n",
    "        count += 1\n",
    "\n",
    "    if count > 0:\n",
    "        average_accuracy = total_accuracy / count\n",
    "    else:\n",
    "        average_accuracy = 0\n",
    "\n",
    "    user_accuracies[rater_id] = average_accuracy\n",
    "\n",
    "for user, avg_accuracy in user_accuracies.items():\n",
    "    print(f\"User {user} average accuracy: {avg_accuracy}\")\n"
   ]
  }
 ],
 "metadata": {
  "kernelspec": {
   "display_name": "research",
   "language": "python",
   "name": "python3"
  },
  "language_info": {
   "codemirror_mode": {
    "name": "ipython",
    "version": 3
   },
   "file_extension": ".py",
   "mimetype": "text/x-python",
   "name": "python",
   "nbconvert_exporter": "python",
   "pygments_lexer": "ipython3",
   "version": "3.10.9"
  }
 },
 "nbformat": 4,
 "nbformat_minor": 2
}
